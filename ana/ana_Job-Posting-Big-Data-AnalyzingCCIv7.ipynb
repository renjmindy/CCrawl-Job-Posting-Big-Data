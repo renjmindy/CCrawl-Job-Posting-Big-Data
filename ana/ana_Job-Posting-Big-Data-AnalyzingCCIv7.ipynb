{
 "cells": [
  {
   "cell_type": "markdown",
   "metadata": {},
   "source": [
    "https://medium.com/swlh/web-scraping-python-requests-and-beautifulsoup-45d5f48f5a1\n",
    "\n",
    "https://sparkbyexamples.com/spark/spark-read-text-file-rdd-dataframe/\n",
    "\n",
    "https://medium.com/swlh/text2sql-in-spark-nlp-converting-natural-language-questions-to-sql-queries-on-scale-6ae9a9061d74\n",
    "\n",
    "https://www.oreilly.com/library/view/learning-spark-2nd/9781492050032/ch04.html\n",
    "\n",
    "https://www.computerhope.com/issues/ch001721.htm"
   ]
  },
  {
   "cell_type": "code",
   "execution_count": 1,
   "metadata": {},
   "outputs": [],
   "source": [
    "#!python -m pip install html2text"
   ]
  },
  {
   "cell_type": "code",
   "execution_count": 2,
   "metadata": {},
   "outputs": [],
   "source": [
    "#!python -m pip install mistletoe"
   ]
  },
  {
   "cell_type": "markdown",
   "metadata": {},
   "source": [
    "https://github.com/webrecorder/warcio"
   ]
  },
  {
   "cell_type": "code",
   "execution_count": 3,
   "metadata": {},
   "outputs": [],
   "source": [
    "#!pip install warcio"
   ]
  },
  {
   "cell_type": "code",
   "execution_count": 4,
   "metadata": {},
   "outputs": [],
   "source": [
    "#!python -m pip install cdx_toolkit"
   ]
  },
  {
   "cell_type": "code",
   "execution_count": 5,
   "metadata": {},
   "outputs": [
    {
     "name": "stdout",
     "output_type": "stream",
     "text": [
      "Requirement already satisfied: gensim in c:\\users\\renjm\\anaconda3\\lib\\site-packages (3.8.3)\n",
      "Requirement already satisfied: scipy>=0.18.1 in c:\\users\\renjm\\anaconda3\\lib\\site-packages (from gensim) (1.6.1)\n",
      "Requirement already satisfied: six>=1.5.0 in c:\\users\\renjm\\anaconda3\\lib\\site-packages (from gensim) (1.15.0)\n",
      "Requirement already satisfied: smart-open>=1.8.1 in c:\\users\\renjm\\anaconda3\\lib\\site-packages (from gensim) (4.2.0)\n",
      "Requirement already satisfied: numpy>=1.11.3 in c:\\users\\renjm\\anaconda3\\lib\\site-packages (from gensim) (1.19.2)\n",
      "Requirement already satisfied: Cython==0.29.14 in c:\\users\\renjm\\anaconda3\\lib\\site-packages (from gensim) (0.29.14)\n",
      "Note: you may need to restart the kernel to use updated packages.\n"
     ]
    }
   ],
   "source": [
    "pip install -U gensim"
   ]
  },
  {
   "cell_type": "code",
   "execution_count": 6,
   "metadata": {},
   "outputs": [],
   "source": [
    "#%load_ext autoreload\n",
    "#%autoreload 2"
   ]
  },
  {
   "cell_type": "markdown",
   "metadata": {},
   "source": [
    "Run the cell below to import everything necessary for this analysis."
   ]
  },
  {
   "cell_type": "code",
   "execution_count": 7,
   "metadata": {},
   "outputs": [],
   "source": [
    "import json\n",
    "import sys\n",
    "import os.path\n",
    "import re\n",
    "import logging\n",
    "import pandas as pd\n",
    "import requests\n",
    "import warcio\n",
    "import mistletoe\n",
    "import cdx_toolkit\n",
    "import zlib\n",
    "import numpy as np\n",
    "import matplotlib.pyplot as plt\n",
    "%matplotlib inline\n",
    "import seaborn as sns\n",
    "import nltk\n",
    "import string\n",
    "import warnings\n",
    "warnings.filterwarnings('ignore')\n",
    "\n",
    "from warcio import ArchiveIterator\n",
    "from contextlib import closing\n",
    "from html2text import HTML2Text\n",
    "from bs4 import BeautifulSoup\n",
    "from pathlib import Path\n",
    "from IPython.display import HTML as HTML_raw, display\n",
    "from mpl_toolkits.mplot3d import Axes3D\n",
    "from sklearn.manifold import TSNE\n",
    "from nltk import word_tokenize, FreqDist\n",
    "from nltk.tokenize import word_tokenize\n",
    "from nltk.corpus import stopwords\n",
    "from nltk.collocations import *\n",
    "from sklearn.feature_extraction.text import TfidfVectorizer\n",
    "from sklearn.metrics import accuracy_score\n",
    "from sklearn.datasets import fetch_20newsgroups\n",
    "from sklearn.ensemble import RandomForestClassifier\n",
    "from sklearn.naive_bayes import MultinomialNB\n",
    "from gensim.models import Word2Vec\n",
    "np.random.seed(0)"
   ]
  },
  {
   "cell_type": "markdown",
   "metadata": {},
   "source": [
    "In this analysis, we'll start by creating our own word embeddings by making use of the `Word2Vec` model. Then, we'll move onto building neural networks that make use of Embedding Layers to accomplish the same end-goal, but directly in our model.\n",
    "\n",
    "* Train a Word2Vec model and transform words into vectors\n",
    "* Obtain most similar words by using methods associated with word vectors\n",
    "\n",
    "The easiest way to make use of `Word2Vec` is to import it from the `Gensim` Library. This model contains a full implementation of Word2Vec, which you can use to begin training immediately."
   ]
  },
  {
   "cell_type": "markdown",
   "metadata": {},
   "source": [
    "# Our corpus\n",
    "\n",
    "In this analysis, we'll be working with alomost 100k different documents, each containing one single job AD.\n",
    "\n",
    "These job AD plain text files are contained within the `\\c\\Users\\renjm\\Job-Posting-Big-Data\\ana\\dat\\100k_jobADs` subdirectory, contained within the same folder as this analysis. Each job AD is stored in a single file, with files ranging from `1_2021JAN_jobAD.txt` to `99422_2021JAN_jobAD.txt`.\n",
    "\n",
    "To make it easy to read in all of the documents, use a list comprehension to create a list containing the name of every single job AD plain text file below."
   ]
  },
  {
   "cell_type": "code",
   "execution_count": 8,
   "metadata": {},
   "outputs": [],
   "source": [
    "filesList = []\n",
    "n_0 = 1\n",
    "n_1 = 100000\n",
    "for i in range(n_0, n_1):\n",
    "    filepath = './dat/100k_jobADs/'+str(i)+'_2021JAN_jobAD.txt'\n",
    "    if (os.path.exists(filepath)):\n",
    "        filesList.append(str(i)+'_2021JAN_jobAD.txt')\n",
    "\n",
    "#print(filesList)"
   ]
  },
  {
   "cell_type": "markdown",
   "metadata": {},
   "source": [
    "next, let's import one job AD to see what our text looks like so that we can make sure we clean and tokenize it correctly.\n",
    "\n",
    "read in and print out the `job description` from `59306_2021JAN_jobAD.txt`. Use vanilla Python, no pandas needed."
   ]
  },
  {
   "cell_type": "code",
   "execution_count": 9,
   "metadata": {
    "scrolled": false
   },
   "outputs": [
    {
     "name": "stdout",
     "output_type": "stream",
     "text": [
      "['\\n', ' Drivers \\n', ' Warehouse \\n', ' Hiring Event - Harriman, NY \\n', ' Hiring Event - Lexington, SC \\n', ' \\n', ' LOCAL CDL-A TRUCK DRIVER JOBS WITH DAILY HOME TIME - Enfield, CT \\n', ' SEARCH MORE JOBS __ \\n', ' Hungry For A Better Truck Driving Career? Join The Martin Brower Private Fleet! \\n', ' Martin Brower, a leading supply chain solutions provider for restaurants around the world, is now hiring CDL-A truck drivers for local opportunities. As part of one of the largest privately held companies in the United States, Martin Brower is perfectly equipped to offer CDL professionals incentives that drive their career forward: local routes, daily or nightly home time, 24/7 support and excellent earning potential! \\n', \" We're a People First company, driven to provide a culture that is focused on safety and committed to the well-being of our world-class team. If you're hungry for better truck driving opportunities, you'll find them here at Martin Brower! \\n\", ' *** THIS POSITION IS LOCATED AT OUR FACILITY IN ENFIELD, CT. *** \\n', ' Local CDL-A Truck Drivers at Martin Brower Enjoy: \\n', ' \\n', ' Start at $26.00 per hour! \\n', ' Increase to $29.10 at 6 months \\n', ' $5,000 Sign On Bonus!! \\n', ' Additional pay for Mileage, Cases, Stops, etc. \\n', ' Medical, Dental, Vision + 401k \\n', ' Extraboard schedule - must be comfortable working any shift \\n', ' Daily or nightly home time \\n', ' Safety incentives \\n', \" 24/7 operations (so you'll have 24/7 support) \\n\", ' Great benefits & more \\n', ' \\n', ' Local CDL-A Truck Driver Qualifications: \\n', ' \\n', ' 21 years of age with Class A CDL \\n', ' Must have and maintain acceptable MVR in compliance with DOT \\n', ' Minimum 1 year of commercial driving experience or equivalent military experience \\n', ' Must pass post-offer background, DOT physical and drug test \\n', ' Prior foodservice distribution/delivery experience preferred \\n', ' Other requirements apply - ask recruiter for details \\n', ' \\n', ' Join The Martin Brower Private Fleet Today! \\n', ' APPLY NOW __ \\n', ' USD \\n', ' Posted: January 15, 2021 \\n', ' LOCAL CDL-A TRUCK DRIVER JOBS WITH DAILY HOME TIME - Enfield, CT \\n', ' Job ID: 52914 \\n', ' Location: Martin Brower - Enfield, Connecticut (CT) \\n', ' Driver Type:  Solo \\n', ' Truck Type:  Reefer \\n', ' Job Type:  Local \\n', ' << Back to Jobs List \\n', ' APPLY NOW __ \\n', ' Get Started! \\n', ' State Alabama Alaska Arizona Arkansas California Colorado Connecticut Delaware District of Columbia Florida Georgia Idaho Illinois Indiana Iowa Kansas Kentucky Louisiana Maine Maryland Massachusetts Michigan Minnesota Mississippi Missouri Montana Nebraska Nevada New Hampshire New Jersey New Mexico New York North Carolina North Dakota Ohio Oklahoma Oregon Pennsylvania Rhode Island South Carolina South Dakota Tennessee Texas Utah Vermont Virginia Virgin Islands Washington West Virginia Wisconsin Wyoming Do you have a valid Class A CDL?* \\n', ' \\n', ' Yes \\n', ' No \\n', ' \\n', ' Do you have any restrictions on your CDL?* \\n', ' \\n', ' Yes \\n', ' No \\n', ' \\n', ' If yes, please indicate the restriction:  - L Z E O M N V Do you have food service delivery experience?* \\n', ' \\n', ' Yes \\n', ' No \\n', ' \\n', ' Are you comfortable with an extraboard schedule (working all shifts)?* \\n', ' \\n', ' Yes \\n', ' No \\n', ' \\n', ' I hereby consent to receive email, text, and autodialed and/or pre-recorded telemarketing calls from or on behalf of Martin Brower at the email address and telephone number provided above \\n', ' Opt In \\n', ' Privacy Policy \\n']\n"
     ]
    }
   ],
   "source": [
    "filepick = './dat/100k_jobADs/59306_2021JAN_jobAD.txt' \n",
    "with open(filepick, encoding='utf-8', errors='ignore') as f:\n",
    "    test_whole_jobad = f.readlines()\n",
    "    print(test_whole_jobad)"
   ]
  },
  {
   "cell_type": "markdown",
   "metadata": {},
   "source": [
    "## Splitting descriptions associated with qualification/certification from one Job ad text"
   ]
  },
  {
   "cell_type": "code",
   "execution_count": 10,
   "metadata": {},
   "outputs": [],
   "source": [
    "statesList = [\"United States of America\",\"USA\",\"AL\",\"AK\",\"AZ\",\"AR\",\"CA\",\"CO\",\"CT\",\"DE\",\"FL\",\"GA\",\"HI\",\"ID\",\"IL\",\"IN\",\"IA\",\"KS\",\n",
    "              \"KY\",\"LA\",\"ME\",\"MD\",\"MA\",\"MI\",\"MN\",\"MS\",\"MO\",\"MT\",\"NE\",\"NV\",\"NH\",\"NJ\",\"NM\",\"NY\",\"NC\",\"ND\",\"OH\",\"OK\",\"OR\",\"PA\",\n",
    "              \"RI\",\"SC\",\"SD\",\"TN\",\"TX\",\"UT\",\"VT\",\"VA\",\"WA\",\"WV\",\"WI\",\"WY\",\"DC\",\"GU\",\"MH\",\"MP\",\"PR\",\"VI\",\"Alabama\",\"Alaska\",\n",
    "              \"Arizona\",\"Arkansas\",\"California\",\"Colorado\",\"Connecticut\",\"Delaware\",\"Florida\",\"Georgia\",\"Hawaii\",\"Idaho\",\n",
    "              \"Illinois\",\"Indiana\",\"Iowa\",\"Kansas\",\"Kentucky\",\"Louisiana\",\"Maine\",\"Maryland\",\"Massachusetts\",\"Michigan\",\n",
    "              \"Minnesota\",\"Mississippi\",\"Missouri\",\"Montana\",\"Nebraska\",\"Nevada\",\"Hampshire\",\"Jersey\",\"Mexico\",\"York\",\n",
    "              \"Carolina\",\"Dakota\",\"Ohio\",\"Oklahoma\",\"Oregon\",\"Pennsylvania\",\"Rhode\",\"Tennessee\",\"Texas\",\"Utah\",\"Vermone\",\n",
    "              \"Virginia\",\"Washington\",\"Wisconsin\",\"Wyoming\"]\n",
    "itList = [\"Engineer\",\"Scientist\",\"Developer\",\"Analyst\",\"Operator\"]\n",
    "qaList = [\"Qualification\",\"Qualifications\",\"Certification\",\"Certifications\"]\n",
    "euList = [\"United Kingdom\",\"UK\",\"EU\"]"
   ]
  },
  {
   "cell_type": "code",
   "execution_count": 11,
   "metadata": {},
   "outputs": [],
   "source": [
    "def qa_text(jobad):\n",
    "\n",
    "    my_jobad = []\n",
    "    my_qaget = []\n",
    "    lineCounter = 0\n",
    "    \n",
    "    for line in jobad:\n",
    "        if line != ' \\n':\n",
    "            lineCounter += 1\n",
    "            my_jobad.append(line)\n",
    "        else:\n",
    "            continue\n",
    "        \n",
    "        for qa in qaList:\n",
    "            if qa in line:\n",
    "                my_qaget.append(lineCounter)\n",
    "    \n",
    "    return my_jobad, my_qaget     "
   ]
  },
  {
   "cell_type": "code",
   "execution_count": 12,
   "metadata": {},
   "outputs": [
    {
     "name": "stdout",
     "output_type": "stream",
     "text": [
      "['\\n', ' Drivers \\n', ' Warehouse \\n', ' Hiring Event - Harriman, NY \\n', ' Hiring Event - Lexington, SC \\n', ' LOCAL CDL-A TRUCK DRIVER JOBS WITH DAILY HOME TIME - Enfield, CT \\n', ' SEARCH MORE JOBS __ \\n', ' Hungry For A Better Truck Driving Career? Join The Martin Brower Private Fleet! \\n', ' Martin Brower, a leading supply chain solutions provider for restaurants around the world, is now hiring CDL-A truck drivers for local opportunities. As part of one of the largest privately held companies in the United States, Martin Brower is perfectly equipped to offer CDL professionals incentives that drive their career forward: local routes, daily or nightly home time, 24/7 support and excellent earning potential! \\n', \" We're a People First company, driven to provide a culture that is focused on safety and committed to the well-being of our world-class team. If you're hungry for better truck driving opportunities, you'll find them here at Martin Brower! \\n\", ' *** THIS POSITION IS LOCATED AT OUR FACILITY IN ENFIELD, CT. *** \\n', ' Local CDL-A Truck Drivers at Martin Brower Enjoy: \\n', ' Start at $26.00 per hour! \\n', ' Increase to $29.10 at 6 months \\n', ' $5,000 Sign On Bonus!! \\n', ' Additional pay for Mileage, Cases, Stops, etc. \\n', ' Medical, Dental, Vision + 401k \\n', ' Extraboard schedule - must be comfortable working any shift \\n', ' Daily or nightly home time \\n', ' Safety incentives \\n', \" 24/7 operations (so you'll have 24/7 support) \\n\", ' Great benefits & more \\n', ' Local CDL-A Truck Driver Qualifications: \\n', ' 21 years of age with Class A CDL \\n', ' Must have and maintain acceptable MVR in compliance with DOT \\n', ' Minimum 1 year of commercial driving experience or equivalent military experience \\n', ' Must pass post-offer background, DOT physical and drug test \\n', ' Prior foodservice distribution/delivery experience preferred \\n', ' Other requirements apply - ask recruiter for details \\n', ' Join The Martin Brower Private Fleet Today! \\n', ' APPLY NOW __ \\n', ' USD \\n', ' Posted: January 15, 2021 \\n', ' LOCAL CDL-A TRUCK DRIVER JOBS WITH DAILY HOME TIME - Enfield, CT \\n', ' Job ID: 52914 \\n', ' Location: Martin Brower - Enfield, Connecticut (CT) \\n', ' Driver Type:  Solo \\n', ' Truck Type:  Reefer \\n', ' Job Type:  Local \\n', ' << Back to Jobs List \\n', ' APPLY NOW __ \\n', ' Get Started! \\n', ' State Alabama Alaska Arizona Arkansas California Colorado Connecticut Delaware District of Columbia Florida Georgia Idaho Illinois Indiana Iowa Kansas Kentucky Louisiana Maine Maryland Massachusetts Michigan Minnesota Mississippi Missouri Montana Nebraska Nevada New Hampshire New Jersey New Mexico New York North Carolina North Dakota Ohio Oklahoma Oregon Pennsylvania Rhode Island South Carolina South Dakota Tennessee Texas Utah Vermont Virginia Virgin Islands Washington West Virginia Wisconsin Wyoming Do you have a valid Class A CDL?* \\n', ' Yes \\n', ' No \\n', ' Do you have any restrictions on your CDL?* \\n', ' Yes \\n', ' No \\n', ' If yes, please indicate the restriction:  - L Z E O M N V Do you have food service delivery experience?* \\n', ' Yes \\n', ' No \\n', ' Are you comfortable with an extraboard schedule (working all shifts)?* \\n', ' Yes \\n', ' No \\n', ' I hereby consent to receive email, text, and autodialed and/or pre-recorded telemarketing calls from or on behalf of Martin Brower at the email address and telephone number provided above \\n', ' Opt In \\n', ' Privacy Policy \\n']\n",
      "[23, 23]\n"
     ]
    }
   ],
   "source": [
    "my_jobad, my_qaget = qa_text(test_whole_jobad)\n",
    "print(my_jobad)\n",
    "print(my_qaget)"
   ]
  },
  {
   "cell_type": "code",
   "execution_count": 13,
   "metadata": {},
   "outputs": [],
   "source": [
    "def qa_para(my_jobad, my_qaget, num=5):\n",
    "    test_jobad = []\n",
    "    for i in range(0, len(my_jobad)):\n",
    "        for j in list(set(my_qaget)):\n",
    "            if i == j:\n",
    "                #for k in range(len(my_jobad)//2-5, 0, -1):\n",
    "                for k in range(1, 0, -1):\n",
    "                    try:\n",
    "                        test_jobad.append(my_jobad[i-k])\n",
    "                    except Exception as e:\n",
    "                        print(e,k)\n",
    "                #for k in range(0, len(my_jobad)//2-5, 1):\n",
    "                if len(my_jobad) > (i + num):\n",
    "                    for k in range(0, num, 1):\n",
    "                        try:\n",
    "                            test_jobad.append(my_jobad[i+k])\n",
    "                        except Exception as e:\n",
    "                            print(e,k)\n",
    "                else:\n",
    "                    for k in range(0, (len(my_jobad) - i), 1):\n",
    "                        try:\n",
    "                            test_jobad.append(my_jobad[i+k])\n",
    "                        except Exception as e:\n",
    "                            print(e,k)\n",
    "                \n",
    "    return test_jobad"
   ]
  },
  {
   "cell_type": "code",
   "execution_count": 14,
   "metadata": {},
   "outputs": [
    {
     "name": "stdout",
     "output_type": "stream",
     "text": [
      "[' Local CDL-A Truck Driver Qualifications: \\n', ' 21 years of age with Class A CDL \\n', ' Must have and maintain acceptable MVR in compliance with DOT \\n', ' Minimum 1 year of commercial driving experience or equivalent military experience \\n', ' Must pass post-offer background, DOT physical and drug test \\n', ' Prior foodservice distribution/delivery experience preferred \\n']\n"
     ]
    }
   ],
   "source": [
    "test_jobad = qa_para(my_jobad, my_qaget, 5)\n",
    "print(test_jobad)"
   ]
  },
  {
   "cell_type": "markdown",
   "metadata": {},
   "source": [
    "## Cleaning and Preprocessing Our Text Data\n",
    "\n",
    "Now that we have our data, the fun part begins. We'll need to begin by preprocessing and cleaning our text data. As we've seen, preprocessing text data is a bit more challenging that working with more traditional data types because there's no clear-cut answer for exactly what sort of preprocessing and cleaning we need to do. Before we can begin cleaning and preprocessing our text data, we need to make some decisions about things such as:\n",
    "\n",
    "* Do we remove stop words or not?\n",
    "* Do we stem or lemmatize our text data, or leave the words as is?\n",
    "* Is basic tokenization enough, or do we need to support special edge cases through the use of regex?\n",
    "* Do we use the entire vocabulary, or just limit the model to a subset of the most frequently used words? If so, how many?\n",
    "* Do we engineer other features, such as bigrams, or POS tags, or Mutual Information Scores?\n",
    "* What sort of vectorization should we use in our model? Boolean Vectorization? Count Vectorization? TF-IDF? More advanced vectorization strategies such as Word2Vec?\n",
    "\n",
    "These are all questions that we'll need to think about pretty much anytime we begin working with text data.\n",
    "\n",
    "Let's get right into it. We'll start by getting a list of all of the english stopwords, and concatenating them with a list of all the punctuation."
   ]
  },
  {
   "cell_type": "markdown",
   "metadata": {},
   "source": [
    "## Removing Stop Words and Punctuation\n",
    "\n",
    "`Stop Words` don't contain any interesting information, and essentially just act as the \"connective tissue\" between the words that really matter in any text. Let's try removing the stopwords and punctuation, and then creating another frequency distribution that contains only the important words.\n",
    "\n",
    "We've already imported the `stopwords` module. We can access all of the stopwords using the `stopwords.words()` method -- however, we don't want to use the whole thing, as this contains all stopwords in every language supported by NLTK. We don't need to check for and remove any Finnish or Japanese stop words, as this text is in English. To avoid unnecessarily long runtimes, we'll just use the English subset of stopwords by passing in the parameter `\"english\"` into `stopwords.words()`.\n",
    "\n",
    "In the cell below:\n",
    "\n",
    "* Get all the `'english'` stopwords from `stopwords.words()` and store them in the appropriate variable below. They will be stored as a list, by default\n",
    "* We'll also want to remove all punctuation. Create a list version of `string.punctuation` and add it to our stopwords list\n",
    "* Finally, we'll also remove numbers. Create a list that contains numbers 0-9 (as strings!), and add this to the stopwords list as well\n",
    "* Use another list comprehension to get words out of `jobad_tokens` as long as they are not in `stopwords_list`"
   ]
  },
  {
   "cell_type": "code",
   "execution_count": 15,
   "metadata": {},
   "outputs": [],
   "source": [
    "stopwords_list = stopwords.words('english')\n",
    "stopwords_list += list(string.punctuation)\n",
    "stopwords_list += [\"''\", '\"\"', '...', '``']\n",
    "stopwords_list += ['0', '1', '2', '3', '4', '5', '6', '7', '8', '9']"
   ]
  },
  {
   "cell_type": "markdown",
   "metadata": {},
   "source": [
    "## Tokenizing our Data\n",
    "\n",
    "Before we can create a bag of words or vectorize each document, we need to clean it up and split each job AD into an array of individual words. Computers are very particular about strings. If we tokenized our data in its current state, we would run into the following problems:\n",
    "\n",
    "* Counting things that aren't actually words. \n",
    "* Punctuation and capitalization would mess up our word counts. To the Python interpreter, `love`, `Love`, `Love?`, and `Love\\n` are all unique words, and would all be counted separately. We need to remove punctuation and capitalization, so that all words will be counted correctly.\n",
    "\n",
    "Tokenization is pretty tedious if we handle it manually, and would probably make use of `regular expressions` (**regex**). In order to keep this lab moving, we'll use a library function to clean and tokenize our data so that we can move onto vectorization.\n",
    "\n",
    "Tokenization is a required task for just about any Natural Language Processing (NLP) task, so great industry-standard tools exist to tokenize things for us, so that we can spend our time on more important tasks without getting bogged down hunting every special symbol or punctuation in a massive dataset. For this analysis, we'll make use of the tokenizer in the amazing `nltk` library, which is short for *Natural Language Tool Kit*.\n",
    "\n",
    "**NOTE**: `NLTK` requires extra installation methods to be run the first time certain methods are used. If `nltk` throws you an error about needing to install additional packages, follow the instructions in the error message to install the dependencies, and then re-run the cell.\n",
    "\n",
    "Before we tokenize our job AD plain text files, we'll do only a small manual bit of cleaning. In the cell below, a function that allows us to make every word lowercase, remove newline characters `\\n`, and all the following punctuation marks: `\",.'?!\"` is developed.\n",
    "\n",
    "Furthermore, this function that not only takes in job AD plain text files having erratic symbols removed but also joins all of the lines into a single string. To sum up, the function, `tokenize_jobAD()`, is utilized to get a fully tokenized version of the job AD. We can test this function on `jobad` to ensure that the function works."
   ]
  },
  {
   "cell_type": "code",
   "execution_count": 16,
   "metadata": {},
   "outputs": [],
   "source": [
    "#def process_article(article):\n",
    "#    tokens = nltk.word_tokenize(article)\n",
    "#    stopwords_removed = [token.lower() for token in tokens if token.lower() not in stopwords_list]\n",
    "#    return stopwords_removed    "
   ]
  },
  {
   "cell_type": "code",
   "execution_count": 17,
   "metadata": {},
   "outputs": [],
   "source": [
    "#processed_data = list(map(process_article, data))"
   ]
  },
  {
   "cell_type": "code",
   "execution_count": 18,
   "metadata": {
    "scrolled": false
   },
   "outputs": [],
   "source": [
    "def tokenize_jobAD(jobad):\n",
    "    \n",
    "    subs = [('.',''),(\"'\",\"\"),('\"',''),(',',''),('?',''),('!',''),('\\n',''),('\\t',''),('\\r',''),('|',''),('/',' '),\n",
    "            ('-',''),('(c)',''),('*',''),('(',''),(')',''),('&',''),(':',''),(';',''),('[',''),(']',''),(\"\\\\\",\"\"),\n",
    "            ('â„¢',''),('%',''),('â£',''),('Â£0',''),('Â£',''),('>',''),('<',''),('=',''),('_',''),('__',''),('“',''),\n",
    "            ('’',''),('–',''),('”',''),('—',''),('+',''),('none',''),('…',''),('•',''),('#',''),('®',''),('â',''),\n",
    "            ('ufeff',''),(\"xad\",\"\"),(\"u200e\",\"\"),(\"©\",''),(\"{\",''),(\"}\",''),(\"@\",\"\"),(\"~\",\"\"),('$',''),('�',''),('№',''),\n",
    "            (\"ⓒ\",\"\"),(\"●\",\"\"),(\"»\",\"\"),(\"‘\",\"\"),(\"☰\",\"\"),(\"✕\",\"\"),(\"`\",\"\"),(\"´\",\"\"),(\"‐\",\"\"),(\"″\",\"\"),(\"‐\",\"\"),\n",
    "            (\"──────────\",\"\"),(\"ue\",\"\"),('u200d',''),('u200b',''),(\"uf09a\",\"\"),(\"u200\",\"\"),(\"u2060\",\"\"),(\"uf0c9\",\"\"),\n",
    "            (\"uf400\",\"\"),(\"u200f\",\"\"),(\"uf09a\",\"\"),(\"u200c\",\"\"),(\"uf0a7\",\"\"),(\"uf099\",\"\"),(\"u2066\",\"\"),(\"ue614\",\"\"),\n",
    "            (\"uf0fa\",\"\"),(\"uf071\",\"\"),(\"ue61b\",\"\"),(\"uf08c\",\"\"),(\"uf0a8\",\"\"),(\"uf0b7\",\"\"),(\"u202a\",\"\"),(\"ue5d2\",\"\"),\n",
    "            (\"ue92b\",\"\"),(\"ue61c\",\"\"),(\"ue613\",\"\"),(\"x86\",\"\"),(\"x96\",\"\"),(\"x92\",\"\"),(\"x7f\",\"\"),(\"x95\",\"\"),(\"x80\",\"\"),\n",
    "            (\"x99\",\"\"),(\"x9d\",\"\"),(\"x9c\",\"\"),(\"x97\",\"\")]\n",
    "    pattern = r'[0-9]'\n",
    "    \n",
    "    cleaned_jobad = []\n",
    "    for line in jobad:\n",
    "        line = re.sub(pattern, '', line)\n",
    "        for old, new in subs:\n",
    "            line = line.replace(old, new).lower()\n",
    "        cleaned_jobad.append(line)\n",
    "\n",
    "    tokenized_jobad = ' '.join(cleaned_jobad).split()\n",
    "    tokenized_jobad_no_stopped = [word for word in tokenized_jobad if word not in stopwords_list]\n",
    "    \n",
    "    return tokenized_jobad_no_stopped"
   ]
  },
  {
   "cell_type": "code",
   "execution_count": 19,
   "metadata": {
    "scrolled": false
   },
   "outputs": [
    {
     "name": "stdout",
     "output_type": "stream",
     "text": [
      "37\n",
      "['local', 'cdla', 'truck', 'driver', 'qualifications', 'years', 'age', 'class', 'cdl', 'must', 'maintain', 'acceptable', 'mvr', 'compliance', 'dot', 'minimum', 'year', 'commercial', 'driving', 'experience', 'equivalent', 'military', 'experience', 'must', 'pass', 'postoffer', 'background', 'dot', 'physical', 'drug', 'test', 'prior', 'foodservice', 'distribution', 'delivery', 'experience', 'preferred']\n"
     ]
    }
   ],
   "source": [
    "tokenized_test_jobad_no_stopped = tokenize_jobAD(test_jobad)\n",
    "print(len(tokenized_test_jobad_no_stopped))\n",
    "print(tokenized_test_jobad_no_stopped[:100000])"
   ]
  },
  {
   "cell_type": "markdown",
   "metadata": {},
   "source": [
    "Now that we can tokenize our job AD plain text file, we can move onto vectorization.\n",
    "\n",
    "## Count Vectorization\n",
    "\n",
    "Machine Learning algorithms don't understand strings. However, they do understand math, which means they understand vectors and matrices. By Vectorizing the text, we just convert the entire text into a vector, where each element in the vector represents a different word. The vector is the length of the entire vocabulary -- usually, every word that occurs in the English language, or at least every word that appears in our corpus. Any given sentence can then be represented as a vector where all the vector is 1 (or some other value) for each time that word appears in the sentence.\n",
    "\n",
    "`Count Vectorization` allows us to represent a sentence as a vector, with each element in the vector corresponding to how many times that word is used. Notice that when we vectorize a sentence this way, we lose the order that the words were in. This is the `Bag of Words` approach\n",
    "\n",
    "In the cell below, create a function that takes in a tokenized, cleaned job AD plain text file and returns a count vectorized representation of it as a Python dictionary (aka: *Sparse Representation*). Add in an optional parameter called vocab that defaults to None. This way, if we are using a vocabulary that contains words not seen in the song, we can still use this function by passing it into the vocab parameter."
   ]
  },
  {
   "cell_type": "code",
   "execution_count": 20,
   "metadata": {},
   "outputs": [],
   "source": [
    "def count_vectorize(jobad, vocab=None):\n",
    "    if vocab:\n",
    "        unique_words = vocab\n",
    "    else:\n",
    "        unique_words = list(set(jobad))\n",
    "    \n",
    "    jobad_dict = {i:0 for i in unique_words}\n",
    "    \n",
    "    for word in jobad:\n",
    "        jobad_dict[word] += 1\n",
    "    \n",
    "    return jobad_dict"
   ]
  },
  {
   "cell_type": "code",
   "execution_count": 21,
   "metadata": {
    "scrolled": false
   },
   "outputs": [
    {
     "name": "stdout",
     "output_type": "stream",
     "text": [
      "{'driver': 1, 'driving': 1, 'distribution': 1, 'preferred': 1, 'postoffer': 1, 'cdla': 1, 'military': 1, 'truck': 1, 'pass': 1, 'minimum': 1, 'maintain': 1, 'compliance': 1, 'qualifications': 1, 'dot': 2, 'must': 2, 'year': 1, 'local': 1, 'equivalent': 1, 'delivery': 1, 'prior': 1, 'acceptable': 1, 'drug': 1, 'physical': 1, 'cdl': 1, 'years': 1, 'age': 1, 'experience': 3, 'mvr': 1, 'commercial': 1, 'test': 1, 'foodservice': 1, 'class': 1, 'background': 1}\n"
     ]
    }
   ],
   "source": [
    "test_vectorized_no_stopped = count_vectorize(tokenized_test_jobad_no_stopped)\n",
    "print(test_vectorized_no_stopped)"
   ]
  },
  {
   "cell_type": "markdown",
   "metadata": {},
   "source": [
    "We've just successfully vectorized the first job AD plain text document! \n",
    "\n",
    "check this text job AD text file to ensure it contains any key word(s) in `qaList`"
   ]
  },
  {
   "cell_type": "code",
   "execution_count": 22,
   "metadata": {},
   "outputs": [],
   "source": [
    "def qa_usa_Count(filename, tokenized_jobad):\n",
    "    found_qa = False\n",
    "    counter_notusa = 0\n",
    "    counter_qa = 0\n",
    "    counter_usa = 0\n",
    "    qaINjobList = []\n",
    "    qaINusaDict = {}\n",
    "    \n",
    "    for eu in euList:\n",
    "        if eu.lower() in tokenized_jobad.keys():\n",
    "            counter_notusa += 1\n",
    "            \n",
    "    if counter_notusa == 0:\n",
    "        for qa in qaList:\n",
    "            if qa.lower() in tokenized_jobad.keys():\n",
    "                counter_qa += 1\n",
    "                found_qa = True\n",
    "                qaINjobList.append(qa)\n",
    "        if found_qa == True:\n",
    "            for usa in statesList:\n",
    "                if usa.lower() in tokenized_jobad.keys():\n",
    "                    counter_usa += 1\n",
    "                    qaINusaDict.setdefault(filename, []).append(usa)\n",
    "            for qa in qaINjobList:\n",
    "                qaINusaDict.setdefault(filename, []).append(qa)\n",
    "                \n",
    "    return counter_qa, counter_usa, qaINusaDict"
   ]
  },
  {
   "cell_type": "code",
   "execution_count": 23,
   "metadata": {},
   "outputs": [
    {
     "name": "stdout",
     "output_type": "stream",
     "text": [
      "1\n",
      "0\n",
      "{'59306_2021JAN_jobAD': ['Qualifications']}\n"
     ]
    }
   ],
   "source": [
    "qaNums_in_test_vectorized, usaNums_in_test_vectorized, qaDict_in_test_vectorized = qa_usa_Count('59306_2021JAN_jobAD', test_vectorized_no_stopped)\n",
    "print(qaNums_in_test_vectorized)   \n",
    "print(usaNums_in_test_vectorized)\n",
    "print(qaDict_in_test_vectorized)"
   ]
  },
  {
   "cell_type": "markdown",
   "metadata": {},
   "source": [
    "## Getting a list of quality-related job ads\n",
    "\n",
    "We loop over all job ad plain text files being downloaded from common crawl. require only quality-string-related job AD plain text files be further analyzed. \n",
    "\n",
    "* tokenize a corpus of words and identify the different choices to be made while parsing them\n",
    "\n",
    "* use a count vectorization strategy to create a bag of words\n",
    "\n",
    "* find quality-related strings from job ads\n",
    "\n",
    "    - okPass : job AD is likely posted for any jobs avaialble in **North America only** (Canada might be included). in addition, we also require quality-related strings such as `qualification(s)` and `certification(s)`, be found \n",
    "    \n",
    "    - okNotPass : cannot pass rwquirements as conditioned above\n",
    "\n",
    "* get a word frequency distribution "
   ]
  },
  {
   "cell_type": "code",
   "execution_count": 24,
   "metadata": {},
   "outputs": [],
   "source": [
    "def get_list_of_qaJobAds(div=3):\n",
    "    n_0 = 1\n",
    "    n_1 = 100000\n",
    "    qaPassList = []\n",
    "    okPassList = []\n",
    "    okNotPassList = []\n",
    "    for i in range(n_0, n_1):\n",
    "        qaNums_in_test_vectorized = 0\n",
    "        usaNums_in_test_vectorized = 0\n",
    "        filepath = './dat/100k_jobADs/'+str(i)+'_2021JAN_jobAD.txt'\n",
    "        if (os.path.exists(filepath)):\n",
    "            filename = filepath.replace('./dat/100k_jobADs/','').replace('.txt','')\n",
    "            with open(filepath, encoding='utf-8', errors='ignore') as f:\n",
    "                test_whole_jobad = f.readlines()\n",
    "            my_jobad, my_qaget = qa_text(test_whole_jobad) \n",
    "            test_jobad = qa_para(my_jobad, my_qaget)\n",
    "            tokenized_test_jobad_no_stopped = tokenize_jobAD(test_jobad)\n",
    "            test_vectorized_no_stopped = count_vectorize(tokenized_test_jobad_no_stopped)\n",
    "            qaNums_in_test_vectorized, usaNums_in_test_vectorized, qaDict_in_test_vectorized_no_stopped = qa_usa_Count(filename, test_vectorized_no_stopped)\n",
    "            if (qaNums_in_test_vectorized > 0):\n",
    "                if (i%div == 0):\n",
    "                    qaPassList.append(qaDict_in_test_vectorized_no_stopped) \n",
    "                    okPassList.append(i)\n",
    "            else:\n",
    "                if (i%(div*6) == 0): \n",
    "                    okNotPassList.append(i)\n",
    "        else:\n",
    "            continue\n",
    "                \n",
    "    return qaPassList, list(set(okPassList)), list(set(okNotPassList))"
   ]
  },
  {
   "cell_type": "markdown",
   "metadata": {},
   "source": [
    "* okPass : found **at least one word string** from every single job AD plain text file in **both** `statesList` and `qaList` string lists, respectively\n",
    "\n",
    "* okNotPass: doesn't satisfy the requirement above "
   ]
  },
  {
   "cell_type": "code",
   "execution_count": 25,
   "metadata": {
    "scrolled": false
   },
   "outputs": [],
   "source": [
    "qaPassList, okPassList, okNotPassList = get_list_of_qaJobAds(1) # div=1 means ALL"
   ]
  },
  {
   "cell_type": "code",
   "execution_count": 26,
   "metadata": {},
   "outputs": [],
   "source": [
    "#print(okPassList)"
   ]
  },
  {
   "cell_type": "code",
   "execution_count": 27,
   "metadata": {},
   "outputs": [
    {
     "name": "stdout",
     "output_type": "stream",
     "text": [
      "3230\n",
      "6000\n"
     ]
    }
   ],
   "source": [
    "print(len(okPassList))\n",
    "print(len(okNotPassList))"
   ]
  },
  {
   "cell_type": "code",
   "execution_count": 28,
   "metadata": {},
   "outputs": [],
   "source": [
    "#print(okNotPassList)"
   ]
  },
  {
   "cell_type": "code",
   "execution_count": 29,
   "metadata": {},
   "outputs": [],
   "source": [
    "myList = []\n",
    "okNotPassFile = './okNotPass.txt' \n",
    "with open(okNotPassFile, encoding='utf-8', errors='ignore') as f:\n",
    "    myList = list(map(int, f.readlines()))\n",
    "    \n",
    "#print(myList)"
   ]
  },
  {
   "cell_type": "code",
   "execution_count": 30,
   "metadata": {},
   "outputs": [
    {
     "name": "stdout",
     "output_type": "stream",
     "text": [
      "3224\n"
     ]
    }
   ],
   "source": [
    "okNewPassList = okPassList.copy()\n",
    "for i in myList:\n",
    "    if i in okNewPassList:\n",
    "        okNewPassList.remove(i)\n",
    "        \n",
    "print(len(okNewPassList))"
   ]
  },
  {
   "cell_type": "markdown",
   "metadata": {},
   "source": [
    "## Processing All Quality-Related Job Ad Documents\n",
    "\n",
    "* Let's create another frequency distribution using `tokenized`, and then inspect the top 50 most common words, to see if removing stopwords and punctuation has helped.\n",
    "\n",
    "* Now that we have a frequency distribution, we can easily answer Q7 about a list of selected job ad plain text files. Let's answer some basic questions about `QAjobad` below, before we move onto creating bigrams.\n",
    "\n",
    "next, create an empty DataFrame called `QAjobads_df`. As we read in job ads and store and clean them, we'll store them in this DataFrame."
   ]
  },
  {
   "cell_type": "code",
   "execution_count": 31,
   "metadata": {},
   "outputs": [],
   "source": [
    "def get_data(okList, docs=10):\n",
    "    \n",
    "    doc_counter = 0\n",
    "    # Iterate through list of filenames and read each in\n",
    "    tokenized_all_documents = {}\n",
    "    for fileNo in okList:\n",
    "        filepath = './dat/100k_jobADs/'+str(fileNo)+'_2021JAN_jobAD.txt'\n",
    "        if (os.path.exists(filepath)):\n",
    "            if (docs > 0):\n",
    "                doc_counter += 1\n",
    "            with open(filepath, encoding='utf-8', errors='ignore') as f:\n",
    "                raw_data = f.readlines()\n",
    "        \n",
    "        # split qualify-associated descriptions from raw text\n",
    "        my_jobad, my_qaget = qa_text(raw_data) \n",
    "        my_qa_jobad = qa_para(my_jobad, my_qaget)\n",
    "        \n",
    "        # Clean and tokenize raw text\n",
    "        tokenized = tokenize_jobAD(my_qa_jobad)\n",
    "        tokenized_all_documents[doc_counter-1] = tokenized\n",
    "        \n",
    "        if (doc_counter > 0) & (doc_counter >= docs):\n",
    "            break \n",
    "    \n",
    "    return tokenized_all_documents"
   ]
  },
  {
   "cell_type": "code",
   "execution_count": 32,
   "metadata": {
    "scrolled": true
   },
   "outputs": [
    {
     "name": "stdout",
     "output_type": "stream",
     "text": [
      "3224\n"
     ]
    }
   ],
   "source": [
    "tokenized_data = get_data(okNewPassList, 5000)\n",
    "print(len(tokenized_data))"
   ]
  },
  {
   "cell_type": "code",
   "execution_count": 33,
   "metadata": {},
   "outputs": [
    {
     "name": "stdout",
     "output_type": "stream",
     "text": [
      "['filed', 'audit', 'certification', 'employment', 'technology', 'tagged', 'big', 'cisa', 'experience', 'inexperienced', 'auditor', 'project', 'volunteer', 'top', 'reasons', 'auditor', 'hard', 'audit', 'management', 'sometimes', 'sucks', 'responses', 'get', 'audit', 'job', 'little', 'experience', 'pingback', 'get', 'audit', 'job', 'little', 'experience', 'cyber', 'security', 'cisa', 'vs', 'cia', 'certification', 'acl', 'add', 'conditional', 'computed', 'field', 'free', 'cisa', 'study', 'guide', 'acl', 'analytics', 'dying', 'excel', 'identify', 'duplicates', 'categories', 'categories', 'select', 'category', 'acl', 'audit', 'blogging', 'case', 'files', 'certification', 'data', 'analytics', 'employment', 'excel', 'fraud', 'free', 'free', 'download', 'humor', 'irony', 'poll', 'quote', 'weak', 'scripting', 'acl', 'security', 'security', 'scope', 'security', 'scout', 'technology', 'top', 'uncategorized', 'written', 'skyyler', 'links', 'follow', 'twitter', 'hidden', 'audit', 'security', 'resources', 'blogroll']\n"
     ]
    }
   ],
   "source": [
    "print(tokenized_data[0])"
   ]
  },
  {
   "cell_type": "code",
   "execution_count": 34,
   "metadata": {},
   "outputs": [
    {
     "name": "stdout",
     "output_type": "stream",
     "text": [
      "['qualifications', 'ideal', 'candidate', 'minimum', 'years', 'commercial', 'collections', 'experienc', 'excellent', 'communication', 'skills', 'oral', 'written', 'english', 'french', 'asset', 'strong', 'microsoft', 'office', 'applications', 'proficient', 'excel']\n"
     ]
    }
   ],
   "source": [
    "print(tokenized_data[1])"
   ]
  },
  {
   "cell_type": "code",
   "execution_count": 35,
   "metadata": {},
   "outputs": [
    {
     "name": "stdout",
     "output_type": "stream",
     "text": [
      "['qualifications', 'great', 'attitude', 'willingness', 'lead', 'attention', 'detail', 'store', 'always', 'looks', 'great', 'confidence', 'handling', 'real', 'responsibility', 'willingness', 'help', 'solve', 'problems', 'minimum', 'qualificationsoutlined', 'required', 'minimum', 'qualifications', 'position', 'listed', 'minimum', 'qualifications', 'age', 'older', 'preferred', 'qualificationsoutlined', 'optional', 'preferred', 'qualifications', 'position', 'listed', 'preferred', 'qualifications', 'walmart', 'accommodate', 'disabilityrelated', 'needs', 'applicants', 'associates', 'required', 'law', 'youll', 'leader', 'coach', 'team', 'playerall', 'rolled', 'one', 'takes', 'special', 'kind', 'person', 'department', 'manager', 'walmartbecause', 'every', 'bit', 'committed', 'team', 'culture', 'customers', 'matter', 'department', 'managers', 'friendly', 'confident', 'communicators', 'know', 'get', 'best', 'teamand', 'theyve', 'got', 'leadership', 'skills', 'make', 'people', 'want', 'perform', 'best', 'well', 'let', 'secret', 'even', 'love', 'appreciate', 'bit', 'competitive', 'spirit', 'especially', 'comes', 'hitting', 'new', 'milestones', 'charitable', 'initiatives', 'giving', 'back', 'communities', 'ability', 'engage', 'inspire', 'team', 'better', 'yesterday', 'every', 'single', 'day', 'thats', 'skill', 'worth', 'celebrating', 'whether', 'motivating', 'team', 'providing', 'recognition', 'great', 'work', 'wowing', 'customers', 'department', 'managers', 'provide', 'leadership', 'right', 'action', 'wouldnt', 'way', 'stellar', 'team', 'seeking', 'managers', 'following', 'traits', 'positive', 'attitude', 'confident', 'leader', 'great', 'listening', 'skills', 'strong', 'communication', 'friendly', 'demeanor', 'inquisitive', 'mind', 'energetic', 'outgoing', 'welcoming', 'motivated', 'happy', 'help', 'walmart', 'every', 'role', 'mattersin', 'every', 'department', 'seeking', 'department', 'managers', 'take', 'pride', 'want', 'inspire', 'others', 'best', 'love', 'people', 'want', 'work', 'winning', 'team', 'sees', 'every', 'customer', 'uniq', 'vald', 'individual', 'cant', 'wait', 'meet', 'realize', 'potential', 'walmartapply', 'today', 'department', 'manager', 'roles', 'lead', 'customer', 'service', 'manager', 'meat', 'department', 'manager', 'produce', 'department', 'manager', 'health', 'wellness', 'manager', 'customer', 'val', 'department', 'manager', 'fashion', 'merchandiser', 'department', 'manager', 'day', 'evening', 'fulfillment', 'department', 'manager', 'qualifications', 'great', 'attitude', 'willingness', 'lead', 'attention', 'detail', 'store', 'always', 'looks', 'great', 'confidence', 'handling', 'real', 'responsibility', 'willingness', 'help', 'solve', 'problems', 'winning', 'smile', 'yes', 'smile', 'already', 'seriously', 'great', 'smile', 'look', 'mirror', 'see', 'told', 'walmart', 'canada', 'one', 'canadas', 'largest', 'employers', 'ranked', 'one', 'countrys', 'top', 'inflntial', 'brands', 'really', 'sets', 'us', 'apart', 'industry', 'incredible', 'team', 'committed', 'supporting', 'communities', 'supporting', 'one', 'another', 'vals', 'cultivated', 'culture', 'everyone', 'welcome', 'team', 'member', 'feels', 'truly', 'belong', 'whether', 'youre', 'looking', 'opportunities', 'grow', 'career', 'longterm', 'simply', 'seeking', 'great', 'place', 'work', 'parttime', 'place', 'preferred', 'qualificationsoutlined', 'optional', 'preferred', 'qualifications', 'position', 'listed', 'preferred', 'qualifications', 'walmart', 'accommodate', 'disabilityrelated', 'needs', 'applicants', 'associates', 'required', 'law', 'youll', 'leader', 'coach', 'team', 'playerall', 'rolled', 'one', 'takes', 'special', 'kind', 'person', 'department', 'manager', 'walmartbecause', 'every', 'bit', 'committed', 'team', 'culture', 'customers', 'matter', 'department', 'managers', 'friendly', 'confident', 'communicators', 'know', 'get', 'best', 'teamand', 'theyve', 'got', 'leadership', 'skills', 'make', 'people', 'want', 'perform', 'best', 'well', 'let', 'secret', 'even', 'love', 'appreciate', 'bit', 'competitive', 'spirit', 'especially', 'comes', 'hitting', 'new', 'milestones', 'charitable', 'initiatives', 'giving', 'back', 'communities', 'ability', 'engage', 'inspire', 'team', 'better', 'yesterday', 'every', 'single', 'day', 'thats', 'skill', 'worth', 'celebrating', 'whether', 'motivating', 'team', 'providing', 'recognition', 'great', 'work', 'wowing', 'customers', 'department', 'managers', 'provide', 'leadership', 'right', 'action', 'wouldnt', 'way', 'stellar', 'team', 'seeking', 'managers', 'following', 'traits', 'positive', 'attitude', 'confident', 'leader', 'great', 'listening', 'skills', 'strong', 'communication', 'friendly', 'demeanor', 'inquisitive', 'mind', 'energetic', 'outgoing', 'welcoming', 'motivated', 'happy', 'help', 'walmart', 'every', 'role', 'mattersin', 'every', 'department', 'seeking', 'department', 'managers', 'take', 'pride', 'want', 'inspire', 'others', 'best', 'love', 'people', 'want', 'work', 'winning', 'team', 'sees', 'every', 'customer', 'uniq', 'vald', 'individual', 'cant', 'wait', 'meet', 'realize', 'potential', 'walmartapply', 'today', 'department', 'manager', 'roles', 'lead', 'customer', 'service', 'manager', 'meat', 'department', 'manager', 'produce', 'department', 'manager', 'health', 'wellness', 'manager', 'customer', 'val', 'department', 'manager', 'fashion', 'merchandiser', 'department', 'manager', 'day', 'evening', 'fulfillment', 'department', 'manager', 'qualifications', 'great', 'attitude', 'willingness', 'lead', 'attention', 'detail', 'store', 'always', 'looks', 'great', 'confidence', 'handling', 'real', 'responsibility', 'willingness', 'help', 'solve', 'problems', 'winning', 'smile', 'yes', 'smile', 'already', 'seriously', 'great', 'smile', 'look', 'mirror', 'see', 'told', 'walmart', 'canada', 'one', 'canadas', 'largest', 'employers', 'ranked', 'one', 'countrys', 'top', 'inflntial', 'brands', 'really', 'sets', 'us', 'apart', 'industry', 'incredible', 'team', 'committed', 'supporting', 'communities', 'supporting', 'one', 'another', 'vals', 'cultivated', 'culture', 'everyone', 'welcome', 'team', 'member', 'feels', 'truly', 'belong', 'whether', 'youre', 'looking', 'opportunities', 'grow', 'career', 'longterm', 'simply', 'seeking', 'great', 'place', 'work', 'parttime', 'place', 'minimum', 'qualifications', 'outlined', 'required', 'minimum', 'qualifications', 'position', 'listed', 'minimum', 'qualifications', 'leader', 'coach', 'team', 'playerall', 'rolled', 'one', 'takes', 'special', 'kind', 'person', 'department', 'manager', 'walmartbecause', 'every', 'bit', 'committed', 'team', 'culture', 'customers', 'matter', 'department', 'managers', 'friendly', 'confident', 'communicators', 'know', 'get', 'best', 'teamand', 'theyve', 'got', 'leadership', 'skills', 'make', 'people', 'want', 'perform', 'best', 'well', 'let', 'secret', 'even', 'love', 'appreciate', 'bit', 'competitive', 'spirit', 'especially', 'comes', 'hitting', 'new', 'milestones', 'charitable', 'initiatives', 'giving', 'back', 'communities', 'ability', 'engage', 'inspire', 'team', 'better', 'yesterday', 'every', 'single', 'day', 'thats', 'skill', 'worth', 'celebrating', 'whether', 'motivating', 'team', 'providing', 'recognition', 'great', 'work', 'wowing', 'customers', 'department', 'managers', 'provide', 'leadership', 'right', 'action', 'wouldnt', 'way', 'stellar', 'team', 'seeking', 'managers', 'following', 'traits', 'positive', 'attitude', 'confident', 'leader', 'great', 'listening', 'skills', 'strong', 'communication', 'friendly', 'demeanor', 'inquisitive', 'mind', 'energetic', 'outgoing', 'welcoming', 'motivated', 'happy', 'help', 'walmart', 'every', 'role', 'mattersin', 'every', 'department', 'seeking', 'department', 'managers', 'take', 'pride', 'want', 'inspire', 'others', 'best', 'love', 'people', 'want', 'work', 'winning', 'team', 'sees', 'every', 'customer', 'uniq', 'vald', 'individual', 'cant', 'wait', 'meet', 'realize', 'potential', 'walmartapply', 'today', 'department', 'manager', 'roles', 'lead', 'customer', 'service', 'manager', 'meat', 'department', 'manager', 'produce', 'department', 'manager', 'health', 'wellness', 'manager', 'customer', 'val', 'department', 'manager', 'fashion', 'merchandiser', 'department', 'manager', 'day', 'evening', 'fulfillment', 'department', 'manager', 'qualifications', 'great', 'attitude', 'willingness', 'lead', 'attention', 'detail', 'store', 'always', 'looks', 'great', 'confidence', 'handling', 'real', 'responsibility', 'willingness', 'help', 'solve', 'problems', 'winning', 'smile', 'yes', 'smile', 'already', 'seriously', 'great', 'smile', 'look', 'mirror', 'see', 'told', 'walmart', 'canada', 'one', 'canadas', 'largest', 'employers', 'ranked', 'one', 'countrys', 'top', 'inflntial', 'brands', 'really', 'sets', 'us', 'apart', 'industry', 'incredible', 'team', 'committed', 'supporting', 'communities', 'supporting', 'one', 'another', 'vals', 'cultivated', 'culture', 'everyone', 'welcome', 'team', 'member', 'feels', 'truly', 'belong', 'whether', 'youre', 'looking', 'opportunities', 'grow', 'career', 'longterm', 'simply', 'seeking', 'great', 'place', 'work', 'parttime', 'place', 'minimum', 'qualifications', 'outlined', 'required', 'minimum', 'qualifications', 'position', 'listed', 'minimum', 'qualifications', 'age', 'older', 'preferred', 'qualifications', 'outlined', 'optional', 'preferred', 'qualifications', 'position', 'listed', 'preferred', 'qualifications', 'minimum', 'qualifications', 'outlined', 'required', 'minimum', 'qualifications', 'position', 'listed', 'minimum', 'qualifications', 'age', 'older', 'preferred', 'qualifications', 'outlined', 'optional', 'preferred', 'qualifications', 'position', 'listed', 'preferred', 'qualifications', 'walmart', 'accommodate', 'disabilityrelated', 'needs', 'applicants', 'associates', 'required', 'law', 'preferred', 'qualifications', 'outlined', 'optional', 'preferred', 'qualifications', 'position', 'listed', 'preferred', 'qualifications', 'walmart', 'accommodate', 'disabilityrelated', 'needs', 'applicants', 'associates', 'required', 'law', 'apply', 'job', 'seekers', 'find', 'job']\n"
     ]
    }
   ],
   "source": [
    "print(tokenized_data[2])"
   ]
  },
  {
   "cell_type": "code",
   "execution_count": 36,
   "metadata": {},
   "outputs": [],
   "source": [
    "QAjobads_df = pd.Series(tokenized_data) "
   ]
  },
  {
   "cell_type": "code",
   "execution_count": 37,
   "metadata": {},
   "outputs": [
    {
     "data": {
      "text/plain": [
       "0    [filed, audit, certification, employment, tech...\n",
       "1    [qualifications, ideal, candidate, minimum, ye...\n",
       "2    [qualifications, great, attitude, willingness,...\n",
       "3    [qualifications, male, female, must, years, ag...\n",
       "4    [aca, acca, qualification, essential, role, co...\n",
       "dtype: object"
      ]
     },
     "execution_count": 37,
     "metadata": {},
     "output_type": "execute_result"
    }
   ],
   "source": [
    "QAjobads_df[:5]"
   ]
  },
  {
   "cell_type": "markdown",
   "metadata": {},
   "source": [
    "Notice that although the words are tokenized, they are still in the same order they were in as headlines. This is important, because the words need to be in their original order for Word2Vec to establish the meaning of them. Remember that for a `Word2Vec` model I can specify a Window Size that tells the model how many words to take into consideration at one time.\n",
    "\n",
    "If my window size was 5, then the model would start by looking at the words \"Will Smith joins Diplo and\", and then slide the window by one, so that it's looking at \"Smith joins Diplo and Nicky\", and so on, until it had completely processed the text example at index 1 above. By doing this for every piece of text in the entire dataset, the `Word2Vec` model learns excellent vector representations for each word in an Embedding Space, where the relationships between vectors capture semantic meaning (recall the vector that captures gender in the previous \"`king - man + woman = queen`\" example I saw).\n",
    "\n",
    "Now that I've prepared the data, train my model and explore a bit!"
   ]
  },
  {
   "cell_type": "markdown",
   "metadata": {},
   "source": [
    "## Training the Model\n",
    "\n",
    "Start by instantiating a `Word2Vec` Model from `gensim`.\n",
    "\n",
    "In the cell below:\n",
    "\n",
    "* Create a `Word2Vec` model and pass in the following arguments:\n",
    "    - The dataset we'll be training on, `QAjobads_df`\n",
    "    - The size of the word vectors to create, `size=100`\n",
    "    - The window size, `window=5`\n",
    "    - The minimum number of times a word needs to appear in order to be counted in the model, `min_count=1`\n",
    "    - The number of threads to use during training, `workers=4`"
   ]
  },
  {
   "cell_type": "code",
   "execution_count": 38,
   "metadata": {},
   "outputs": [],
   "source": [
    "model = Word2Vec(QAjobads_df, size=100, window=5, min_count=1, workers=4)"
   ]
  },
  {
   "cell_type": "markdown",
   "metadata": {},
   "source": [
    "Now, that I've instantiated Word2Vec model, train it on my text data.\n",
    "\n",
    "In the cell below:\n",
    "\n",
    "* Call the `.train()` method on my model and pass in the following parameters:\n",
    "\n",
    "    - The dataset we'll be training on, `QAjobads_df`\n",
    "    - The `total_examples` of sentences in the dataset, which I can find in `model.corpus_count`\n",
    "    - The number of `epochs` I want to train for, which we'll set to `10`"
   ]
  },
  {
   "cell_type": "code",
   "execution_count": 39,
   "metadata": {},
   "outputs": [
    {
     "data": {
      "text/plain": [
       "(2897427, 3168970)"
      ]
     },
     "execution_count": 39,
     "metadata": {},
     "output_type": "execute_result"
    }
   ],
   "source": [
    "model.train(QAjobads_df, total_examples=model.corpus_count, epochs=10)"
   ]
  },
  {
   "cell_type": "markdown",
   "metadata": {},
   "source": [
    "Ok. We now have a fully trained model! The word vectors themselves are stored in the `Word2VecKeyedVectors` instance, which is stored in the `.wv` attribute. To simplify this, restore this object inside of the variable `wv` to save myself some keystrokes down the line."
   ]
  },
  {
   "cell_type": "code",
   "execution_count": 40,
   "metadata": {},
   "outputs": [],
   "source": [
    "wv = model.wv"
   ]
  },
  {
   "cell_type": "markdown",
   "metadata": {},
   "source": [
    "## Examining Your Word Vectors\n",
    "\n",
    "Now that I have a trained `Word2Vec` model, go ahead and explore the relationships between some of the words in the corpus!\n",
    "\n",
    "One cool thing I can use `Word2Vec` for is to get the most similar words to a given word. I can do this by passing in the word to `wv.most_similar()`.\n",
    "\n",
    "In the cell below, try getting the most similar word to `'qualification'`."
   ]
  },
  {
   "cell_type": "code",
   "execution_count": 41,
   "metadata": {},
   "outputs": [
    {
     "data": {
      "text/plain": [
       "[('btech', 0.7779676914215088),\n",
       " ('mca', 0.7596356272697449),\n",
       " ('bca', 0.7205610871315002),\n",
       " ('stream', 0.7089898586273193),\n",
       " ('gnm', 0.7015988826751709),\n",
       " ('mcom', 0.6835454702377319),\n",
       " ('tradespeople', 0.6825571060180664),\n",
       " ('electrician', 0.6811347007751465),\n",
       " ('mba', 0.6808139085769653),\n",
       " ('iti', 0.6792859435081482)]"
      ]
     },
     "execution_count": 41,
     "metadata": {},
     "output_type": "execute_result"
    }
   ],
   "source": [
    "wv.most_similar('qualification')"
   ]
  },
  {
   "cell_type": "code",
   "execution_count": 42,
   "metadata": {},
   "outputs": [
    {
     "name": "stdout",
     "output_type": "stream",
     "text": [
      "('btech', 0.7779676914215088)\n",
      "btech\n",
      "0.7779676914215088\n"
     ]
    }
   ],
   "source": [
    "print(wv.most_similar('qualification')[0])\n",
    "print(wv.most_similar('qualification')[0][0])\n",
    "print(wv.most_similar('qualification')[0][1])"
   ]
  },
  {
   "cell_type": "code",
   "execution_count": 43,
   "metadata": {},
   "outputs": [
    {
     "data": {
      "text/plain": [
       "[('preferably', 0.6606717109680176),\n",
       " ('setting', 0.6533883810043335),\n",
       " ('jms', 0.5967622995376587),\n",
       " ('five', 0.5701263546943665),\n",
       " ('prior', 0.5699166655540466),\n",
       " ('supervisory', 0.563443660736084),\n",
       " ('years', 0.5385386943817139),\n",
       " ('acute', 0.5352734327316284),\n",
       " ('least', 0.5316807627677917),\n",
       " ('ideally', 0.5210566520690918)]"
      ]
     },
     "execution_count": 43,
     "metadata": {},
     "output_type": "execute_result"
    }
   ],
   "source": [
    "wv.most_similar('experience')"
   ]
  },
  {
   "cell_type": "code",
   "execution_count": 44,
   "metadata": {},
   "outputs": [
    {
     "data": {
      "text/plain": [
       "[('worth', 0.711178719997406),\n",
       " ('itpilipinascom', 0.6467073559761047),\n",
       " ('celebrating', 0.6370295882225037),\n",
       " ('enthusiasmyou', 0.5919318795204163),\n",
       " ('effects', 0.5675952434539795),\n",
       " ('induction', 0.5672016739845276),\n",
       " ('animations', 0.5559437274932861),\n",
       " ('proofread', 0.5524944067001343),\n",
       " ('set', 0.5394076108932495),\n",
       " ('representative', 0.5166015028953552)]"
      ]
     },
     "execution_count": 44,
     "metadata": {},
     "output_type": "execute_result"
    }
   ],
   "source": [
    "wv.most_similar('skill')"
   ]
  },
  {
   "cell_type": "code",
   "execution_count": 45,
   "metadata": {},
   "outputs": [
    {
     "data": {
      "text/plain": [
       "[('able', 0.7044336795806885),\n",
       " ('effectively', 0.6483671069145203),\n",
       " ('priorities', 0.645809531211853),\n",
       " ('multiple', 0.6457312703132629),\n",
       " ('prioritize', 0.6390169858932495),\n",
       " ('dispute', 0.6141330003738403),\n",
       " ('initiative', 0.612598180770874),\n",
       " ('effective', 0.6111854314804077),\n",
       " ('changing', 0.591248095035553),\n",
       " ('deadlines', 0.5876355171203613)]"
      ]
     },
     "execution_count": 45,
     "metadata": {},
     "output_type": "execute_result"
    }
   ],
   "source": [
    "wv.most_similar('ability')"
   ]
  },
  {
   "cell_type": "markdown",
   "metadata": {},
   "source": [
    "Interesting! All of the most similar words are also states.\n",
    "\n",
    "I can also get the least similar vectors to a given word by passing in the word to the `.most_similar()` method's `negative` parameter.\n",
    "\n",
    "In the cell below, get the least similar words to `'qualifications'`."
   ]
  },
  {
   "cell_type": "code",
   "execution_count": 46,
   "metadata": {},
   "outputs": [],
   "source": [
    "#wv.most_similar(negative='qualification')"
   ]
  },
  {
   "cell_type": "code",
   "execution_count": 47,
   "metadata": {},
   "outputs": [],
   "source": [
    "#wv.most_similar(negative='experience')"
   ]
  },
  {
   "cell_type": "markdown",
   "metadata": {},
   "source": [
    "This seems like random noise. It is a result of the way Word2Vec is computing the similarity between word vectors in the embedding space. Although the word vectors closest to a given word vector are almost certainly going to have similar meaning or connotation with my given word, the word vectors that the model considers 'least similar' are just the word vectors that are farthest away, or have the lowest cosine similarity. It's important to understand that while the closest vectors in the embedding space will almost certainly share some level of semantic meaning with a given word, there is no guarantee that this relationship will hold at large distances.\n",
    "\n",
    "I can also get the vector for a given word by passing in the word as if I was passing in a key to a dictionary.\n",
    "\n",
    "In the cell below, get the word vector for `'qualifications'`."
   ]
  },
  {
   "cell_type": "code",
   "execution_count": 48,
   "metadata": {},
   "outputs": [
    {
     "data": {
      "text/plain": [
       "array([ 5.02492666e-01, -3.52354503e+00, -4.38093871e-01,  1.24926731e-01,\n",
       "       -1.57396877e+00, -6.03500545e-01, -1.73832107e+00,  1.45441973e+00,\n",
       "       -3.60719055e-01, -5.84143758e-01,  4.79222417e-01, -6.89827561e-01,\n",
       "        4.92852867e-01, -1.22315526e+00, -5.62417567e-01,  3.23583460e+00,\n",
       "        6.39881372e-01,  7.43721306e-01,  1.04208446e+00,  4.09149602e-02,\n",
       "       -1.45414472e+00,  3.22265655e-01,  5.70234954e-01,  3.43295544e-01,\n",
       "        1.31793666e+00,  1.52214438e-01,  3.60209167e-01,  3.50681394e-02,\n",
       "        2.99490076e-02,  6.11646950e-01, -1.70250431e-01,  8.54997575e-01,\n",
       "        3.68684530e-02,  1.32731363e-01,  9.41225708e-01,  9.87337887e-01,\n",
       "       -4.58075218e-02, -1.74158916e-01, -8.26987147e-01,  2.09983349e+00,\n",
       "       -3.97752136e-01,  3.75093400e-01, -1.56911719e+00,  1.02093303e+00,\n",
       "        6.13996685e-01, -1.76633954e-01, -2.95676529e-01,  6.67758167e-01,\n",
       "       -5.04253507e-01,  2.04843521e+00,  1.26148565e-02, -3.50349396e-01,\n",
       "       -1.71674716e+00, -8.98373008e-01, -1.42760718e+00,  1.15018964e-01,\n",
       "       -4.92046148e-01, -1.40181094e-01,  2.81684947e+00, -1.73223329e+00,\n",
       "        1.26952958e+00,  1.19946337e+00, -7.70656288e-01,  5.15890479e-01,\n",
       "        1.39209616e+00,  2.35247508e-01,  7.88550436e-01, -1.37760794e+00,\n",
       "        2.11701110e-01,  5.08024037e-01,  1.08384824e+00, -6.10999938e-04,\n",
       "       -3.16635698e-01, -2.33108187e+00, -4.58345771e-01, -5.83759427e-01,\n",
       "        9.69664931e-01,  1.97139513e+00, -2.47695908e-01,  3.14043403e-01,\n",
       "       -1.01101637e+00,  4.58535969e-01,  1.50490224e-01, -9.19153690e-01,\n",
       "        2.98389792e-01,  4.00017858e-01,  2.27466011e+00,  5.85376024e-01,\n",
       "        3.98545206e-01,  3.41790646e-01, -6.53777301e-01,  5.84139049e-01,\n",
       "        4.31729883e-01, -2.09794879e+00, -1.81165203e-01, -1.23131847e+00,\n",
       "        1.45718384e+00,  4.04578559e-02,  1.27197957e+00, -3.81034404e-01],\n",
       "      dtype=float32)"
      ]
     },
     "execution_count": 48,
     "metadata": {},
     "output_type": "execute_result"
    }
   ],
   "source": [
    "wv['qualifications']"
   ]
  },
  {
   "cell_type": "markdown",
   "metadata": {},
   "source": [
    "Now get all of the word vectors from the object at once. I can find these inside of `wv.vectors`. Try it out in the cell below."
   ]
  },
  {
   "cell_type": "code",
   "execution_count": 49,
   "metadata": {},
   "outputs": [
    {
     "data": {
      "text/plain": [
       "array([[ 0.50249267, -3.523545  , -0.43809387, ...,  0.04045786,\n",
       "         1.2719796 , -0.3810344 ],\n",
       "       [-0.15500763, -1.5389404 ,  1.5816706 , ...,  1.6665643 ,\n",
       "         1.9992096 , -2.539942  ],\n",
       "       [ 1.0333763 , -1.2808625 ,  0.9082382 , ...,  3.6170566 ,\n",
       "         0.09788132,  0.5686611 ],\n",
       "       ...,\n",
       "       [ 0.02781985,  0.00926474,  0.01874588, ..., -0.04967662,\n",
       "         0.01899238, -0.01798851],\n",
       "       [ 0.04974647, -0.02714864,  0.0118499 , ...,  0.01378644,\n",
       "        -0.02013495,  0.01655838],\n",
       "       [ 0.03899157, -0.02170335,  0.00560585, ..., -0.02478539,\n",
       "         0.06675352, -0.03945508]], dtype=float32)"
      ]
     },
     "execution_count": 49,
     "metadata": {},
     "output_type": "execute_result"
    }
   ],
   "source": [
    "wv.vectors"
   ]
  },
  {
   "cell_type": "markdown",
   "metadata": {},
   "source": [
    "As a final experiment, try to recreate the `'king' - 'man' + 'woman' = 'queen'` example previously mentioned. I can do this by using the `.most_similar()` method and translating the word analogies into an addition/subtraction formulation (as shown above). Pass the original comparison, which you are calculating a difference between, to the negative parameter, and the analogous starter you want to apply the same transformation to, to the positive parameter.\n",
    "\n",
    "Do this now in the cell below."
   ]
  },
  {
   "cell_type": "code",
   "execution_count": 50,
   "metadata": {},
   "outputs": [
    {
     "data": {
      "text/plain": [
       "[('apartments', 0.7927402853965759),\n",
       " ('walkup', 0.7795013189315796),\n",
       " ('alter', 0.7669872045516968),\n",
       " ('suited', 0.7595961689949036),\n",
       " ('learningcentred', 0.7580158710479736),\n",
       " ('devise', 0.7579994201660156),\n",
       " ('condominiums', 0.7484898567199707),\n",
       " ('moshi', 0.7444189786911011),\n",
       " ('enjoyment', 0.7433988451957703),\n",
       " ('inefficiency', 0.7414690256118774)]"
      ]
     },
     "execution_count": 50,
     "metadata": {},
     "output_type": "execute_result"
    }
   ],
   "source": [
    "wv.most_similar(positive=['king', 'woman'], negative=['man'])"
   ]
  },
  {
   "cell_type": "markdown",
   "metadata": {},
   "source": [
    "As you can see from the output above, your model isn't perfect, but 'Queen' and 'Princess' are still in the top 5. As you can see from the other word in top 5, 'reminiscent' -- your model is far from perfect. This is likely because you didn't have enough training data. That said, given the small amount of training data provided, the model still performs remarkably well!\n",
    "\n",
    "In the following, I'll utilize transfer learning, loading in the weights from an open-sourced model that has already been trained for a very long time on a massive amount of data. Specifically, I'll work with the GloVe model from the Stanford NLP Group. There's not really any benefit from training the model ourselves, unless my text uses different, specialized vocabulary that isn't likely to be well represented inside an open-source model."
   ]
  },
  {
   "cell_type": "markdown",
   "metadata": {},
   "source": [
    "# Visualization"
   ]
  },
  {
   "cell_type": "code",
   "execution_count": 51,
   "metadata": {},
   "outputs": [],
   "source": [
    "def top_count_bar_chart(keyword):\n",
    "    \n",
    "    sns.set_context('notebook')\n",
    "    fig, ax = plt.subplots(ncols=1, nrows=1, figsize=(12,6))\n",
    "    colors = [\"b\", \"g\", \"r\", \"c\", \"m\", \"y\", \"k\", \"purple\"] # colors for every line of y\n",
    "    \n",
    "    kList = wv.most_similar(keyword)\n",
    "    xList = []\n",
    "    yList = []\n",
    "    \n",
    "    for i in range(0, 10):\n",
    "        xList.append(kList[i][0])\n",
    "        yList.append(kList[i][1])\n",
    "        ax.bar(xList[i], yList[i], color=colors[i%8], alpha=0.5)\n",
    "        \n",
    "    ax.set_title('Trained Word2Vec4`{}`'.format(keyword), size=50)\n",
    "    ax.set_xlabel('Top 10 Most Similar Words', size=30)\n",
    "    ax.set_ylabel(\"Similarity\", size=30)\n",
    "    ax.set_yticklabels(yList, fontsize=30)\n",
    "    ax.set_xticklabels(xList, fontsize=30, rotation=60, ha='right')\n",
    "    ax.set(yscale='linear')"
   ]
  },
  {
   "cell_type": "code",
   "execution_count": 52,
   "metadata": {
    "scrolled": false
   },
   "outputs": [
    {
     "data": {
      "image/png": "[encoded data removed]",
      "text/plain": [
       "<Figure size 864x432 with 1 Axes>"
      ]
     },
     "metadata": {
      "needs_background": "light"
     },
     "output_type": "display_data"
    }
   ],
   "source": [
    "top_count_bar_chart('qualification')"
   ]
  },
  {
   "cell_type": "markdown",
   "metadata": {},
   "source": [
    "In this analysis, we trained and used a Word2Vec model to create vectorized word embeddings!"
   ]
  },
  {
   "cell_type": "code",
   "execution_count": null,
   "metadata": {},
   "outputs": [],
   "source": []
  }
 ],
 "metadata": {
  "kernelspec": {
   "display_name": "learn-env",
   "language": "python",
   "name": "learn-env"
  },
  "language_info": {
   "codemirror_mode": {
    "name": "ipython",
    "version": 3
   },
   "file_extension": ".py",
   "mimetype": "text/x-python",
   "name": "python",
   "nbconvert_exporter": "python",
   "pygments_lexer": "ipython3",
   "version": "3.8.8"
  }
 },
 "nbformat": 4,
 "nbformat_minor": 4
}
